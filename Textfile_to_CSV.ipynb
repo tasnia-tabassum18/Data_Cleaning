{
  "nbformat": 4,
  "nbformat_minor": 0,
  "metadata": {
    "colab": {
      "provenance": []
    },
    "kernelspec": {
      "name": "python3",
      "display_name": "Python 3"
    },
    "language_info": {
      "name": "python"
    }
  },
  "cells": [
    {
      "cell_type": "code",
      "execution_count": 3,
      "metadata": {
        "id": "fBDv1gmM4t8u"
      },
      "outputs": [],
      "source": [
        "import pandas as pd\n",
        "  \n",
        "\n",
        "df = pd.read_csv(\"dataset.txt\",sep= \" \")\n",
        "  \n",
        "# storing this dataframe in a csv file\n",
        "df.to_csv('dataset.csv', index = None)"
      ]
    }
  ]
}