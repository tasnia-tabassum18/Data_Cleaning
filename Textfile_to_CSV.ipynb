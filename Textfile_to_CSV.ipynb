{
  "nbformat": 4,
  "nbformat_minor": 0,
  "metadata": {
    "colab": {
      "provenance": []
    },
    "kernelspec": {
      "name": "python3",
      "display_name": "Python 3"
    },
    "language_info": {
      "name": "python"
    }
  },
  "cells": [
    {
      "cell_type": "markdown",
      "source": [
        "Convert text file to csv\n",
        "If province is 0 drop the row\n",
        "If deaths, confirmed rows data is null, replace with 0\n",
        "Count total drop rows and null value\n",
        "Data visualize with matplotlib (deaths, confirmed), histogram or scatter or line chart\n",
        "Manually add data type in the csv file\n",
        "Show location in map using streamlit\n",
        "Push code to a github public repo and share line here"
      ],
      "metadata": {
        "id": "dtguaXaL9MYh"
      }
    },
    {
      "cell_type": "code",
      "execution_count": 27,
      "metadata": {
        "id": "fBDv1gmM4t8u"
      },
      "outputs": [],
      "source": [
        "import pandas as pd\n",
        "  \n",
        "\n",
        "df = pd.read_csv(\"dataset.txt\",sep= \" \")\n",
        "  \n",
        "# storing this dataframe in a csv file\n",
        "df.to_csv('dataset.csv', index = None)"
      ]
    },
    {
      "cell_type": "code",
      "source": [
        "#dropping province=0\n",
        "tmp =[]\n",
        "if df[\"Province_State\"].isin([0]) is True:\n",
        "  tmp.append(df[\"Province_State\"])\n",
        "print(\"No of rows with 0 in province state is:\",len(tmp))\n",
        "#it gives false as there are no entries with 0\n",
        "\n",
        "df = df[df.Province_State != 0] #drop any rows that have 0 in the Province_State column\n",
        "\n"
      ],
      "metadata": {
        "colab": {
          "base_uri": "https://localhost:8080/"
        },
        "id": "RV0KRx539PcM",
        "outputId": "2b5253b2-d52e-408c-a264-09ecf217172b"
      },
      "execution_count": 35,
      "outputs": [
        {
          "output_type": "stream",
          "name": "stdout",
          "text": [
            "No of rows with 0 in province state is: 0\n"
          ]
        }
      ]
    },
    {
      "cell_type": "code",
      "source": [
        "#counting null values i confirmed column\n",
        "nullcount1 = df[\"Confirmed\"].isnull().sum()\n",
        "print(nullcount1)\n"
      ],
      "metadata": {
        "colab": {
          "base_uri": "https://localhost:8080/"
        },
        "id": "8eH5LR1UH3_d",
        "outputId": "ccc06394-ad34-49d1-fd70-f965abd6120a"
      },
      "execution_count": 38,
      "outputs": [
        {
          "output_type": "stream",
          "name": "stdout",
          "text": [
            "4\n"
          ]
        }
      ]
    },
    {
      "cell_type": "code",
      "source": [],
      "metadata": {
        "id": "Oa2MjEJoFnU-"
      },
      "execution_count": null,
      "outputs": []
    }
  ]
}